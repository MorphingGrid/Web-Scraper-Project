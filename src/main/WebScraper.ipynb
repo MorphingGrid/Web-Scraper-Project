{
 "cells": [
  {
   "cell_type": "markdown",
   "id": "848d6551",
   "metadata": {},
   "source": [
    "### Automating the login process"
   ]
  },
  {
   "cell_type": "code",
   "execution_count": 1,
   "id": "e572583a",
   "metadata": {},
   "outputs": [],
   "source": [
    "from selenium import webdriver\n",
    "from selenium.webdriver.chrome.service import Service\n",
    "from selenium.webdriver.common.keys import Keys\n",
    "import time"
   ]
  },
  {
   "cell_type": "code",
   "execution_count": 7,
   "id": "429008da",
   "metadata": {
    "scrolled": true
   },
   "outputs": [
    {
     "ename": "NoSuchElementException",
     "evalue": "Message: no such element: Unable to locate element: {\"method\":\"css selector\",\"selector\":\"[name=\"userNameInput\"]\"}\n  (Session info: chrome=112.0.5615.49)\n",
     "output_type": "error",
     "traceback": [
      "\u001b[0;31m---------------------------------------------------------------------------\u001b[0m",
      "\u001b[0;31mNoSuchElementException\u001b[0m                    Traceback (most recent call last)",
      "Cell \u001b[0;32mIn[7], line 9\u001b[0m\n\u001b[1;32m      7\u001b[0m driver\u001b[38;5;241m.\u001b[39mget(\u001b[38;5;124m'\u001b[39m\u001b[38;5;124mhttps://federation.net.ucf.edu/adfs/ls/?SAMLRequest=hZHBTsMwEER\u001b[39m\u001b[38;5;132;01m%2F\u001b[39;00m\u001b[38;5;124mJTefHIfEJMFqKhV6oFIRFQ0cuFSu7RJDYhuvjfh8mhZEuZTjrt6MdmYnwIfesVkMnXlQ71FBSGYAygdtzY01EAfl18p\u001b[39m\u001b[38;5;132;01m%2F\u001b[39;00m\u001b[38;5;124maKEeH5YN6kJwwAjhzqWvVpuOGwkdf1OpsAMZ3TbiKEPJfO\u001b[39m\u001b[38;5;124m%\u001b[39m\u001b[38;5;124m2BmDR\u001b[39m\u001b[38;5;124m%\u001b[39m\u001b[38;5;124m2BtfoU7JZU\u001b[39m\u001b[38;5;132;01m%2F\u001b[39;00m\u001b[38;5;124m7FKjQhrFLlUyEi53QHogKFnMG7TZlqWktJD4sqIlphmtMadVjata1FWRy0KW\u001b[39m\u001b[38;5;124m%\u001b[39m\u001b[38;5;124m2BR4FiGphIHATGpRneYEzirO6vbhiNGdF9YySlbfBCttfayO1eWlQ9IZZDhqY4YMCFgRbz\u001b[39m\u001b[38;5;124m%\u001b[39m\u001b[38;5;124m2B6WLE8ztj1CwG7bdoVX9\u001b[39m\u001b[38;5;124m%\u001b[39m\u001b[38;5;124m2BsWJU\u001b[39m\u001b[38;5;132;01m%2F\u001b[39;00m\u001b[38;5;124mKwyHBHkDJ59AbYGPO8078p8RTiTuvcd\u001b[39m\u001b[38;5;124m%\u001b[39m\u001b[38;5;124m2BnoulkpNkhnp\u001b[39m\u001b[38;5;132;01m%2F\u001b[39;00m\u001b[38;5;124m%\u001b[39m\u001b[38;5;124m2BU7mbkFP6OP196fQL\u001b[39m\u001b[38;5;124m'\u001b[39m)\n\u001b[1;32m      8\u001b[0m \u001b[38;5;66;03m# Find the username and password input fields on the login form, and enter your credentials\u001b[39;00m\n\u001b[0;32m----> 9\u001b[0m username_input \u001b[38;5;241m=\u001b[39m \u001b[43mdriver\u001b[49m\u001b[38;5;241;43m.\u001b[39;49m\u001b[43mfind_element_by_name\u001b[49m\u001b[43m(\u001b[49m\u001b[38;5;124;43m'\u001b[39;49m\u001b[38;5;124;43muserNameInput\u001b[39;49m\u001b[38;5;124;43m'\u001b[39;49m\u001b[43m)\u001b[49m\n\u001b[1;32m     10\u001b[0m password_input \u001b[38;5;241m=\u001b[39m driver\u001b[38;5;241m.\u001b[39mfind_element_by_name(\u001b[38;5;124m'\u001b[39m\u001b[38;5;124mpasswordArea\u001b[39m\u001b[38;5;124m'\u001b[39m)\n\u001b[1;32m     11\u001b[0m username_input\u001b[38;5;241m.\u001b[39msend_keys(\u001b[38;5;124m'\u001b[39m\u001b[38;5;124mNET\u001b[39m\u001b[38;5;130;01m\\v\u001b[39;00m\u001b[38;5;124mi927701\u001b[39m\u001b[38;5;124m'\u001b[39m)\n",
      "File \u001b[0;32m~/opt/anaconda3/lib/python3.9/site-packages/selenium/webdriver/remote/webdriver.py:496\u001b[0m, in \u001b[0;36mWebDriver.find_element_by_name\u001b[0;34m(self, name)\u001b[0m\n\u001b[1;32m    480\u001b[0m \u001b[38;5;28;01mdef\u001b[39;00m \u001b[38;5;21mfind_element_by_name\u001b[39m(\u001b[38;5;28mself\u001b[39m, name):\n\u001b[1;32m    481\u001b[0m     \u001b[38;5;124;03m\"\"\"\u001b[39;00m\n\u001b[1;32m    482\u001b[0m \u001b[38;5;124;03m    Finds an element by name.\u001b[39;00m\n\u001b[1;32m    483\u001b[0m \n\u001b[0;32m   (...)\u001b[0m\n\u001b[1;32m    494\u001b[0m \u001b[38;5;124;03m        element = driver.find_element_by_name('foo')\u001b[39;00m\n\u001b[1;32m    495\u001b[0m \u001b[38;5;124;03m    \"\"\"\u001b[39;00m\n\u001b[0;32m--> 496\u001b[0m     \u001b[38;5;28;01mreturn\u001b[39;00m \u001b[38;5;28;43mself\u001b[39;49m\u001b[38;5;241;43m.\u001b[39;49m\u001b[43mfind_element\u001b[49m\u001b[43m(\u001b[49m\u001b[43mby\u001b[49m\u001b[38;5;241;43m=\u001b[39;49m\u001b[43mBy\u001b[49m\u001b[38;5;241;43m.\u001b[39;49m\u001b[43mNAME\u001b[49m\u001b[43m,\u001b[49m\u001b[43m \u001b[49m\u001b[43mvalue\u001b[49m\u001b[38;5;241;43m=\u001b[39;49m\u001b[43mname\u001b[49m\u001b[43m)\u001b[49m\n",
      "File \u001b[0;32m~/opt/anaconda3/lib/python3.9/site-packages/selenium/webdriver/remote/webdriver.py:976\u001b[0m, in \u001b[0;36mWebDriver.find_element\u001b[0;34m(self, by, value)\u001b[0m\n\u001b[1;32m    974\u001b[0m         by \u001b[38;5;241m=\u001b[39m By\u001b[38;5;241m.\u001b[39mCSS_SELECTOR\n\u001b[1;32m    975\u001b[0m         value \u001b[38;5;241m=\u001b[39m \u001b[38;5;124m'\u001b[39m\u001b[38;5;124m[name=\u001b[39m\u001b[38;5;124m\"\u001b[39m\u001b[38;5;132;01m%s\u001b[39;00m\u001b[38;5;124m\"\u001b[39m\u001b[38;5;124m]\u001b[39m\u001b[38;5;124m'\u001b[39m \u001b[38;5;241m%\u001b[39m value\n\u001b[0;32m--> 976\u001b[0m \u001b[38;5;28;01mreturn\u001b[39;00m \u001b[38;5;28;43mself\u001b[39;49m\u001b[38;5;241;43m.\u001b[39;49m\u001b[43mexecute\u001b[49m\u001b[43m(\u001b[49m\u001b[43mCommand\u001b[49m\u001b[38;5;241;43m.\u001b[39;49m\u001b[43mFIND_ELEMENT\u001b[49m\u001b[43m,\u001b[49m\u001b[43m \u001b[49m\u001b[43m{\u001b[49m\n\u001b[1;32m    977\u001b[0m \u001b[43m    \u001b[49m\u001b[38;5;124;43m'\u001b[39;49m\u001b[38;5;124;43musing\u001b[39;49m\u001b[38;5;124;43m'\u001b[39;49m\u001b[43m:\u001b[49m\u001b[43m \u001b[49m\u001b[43mby\u001b[49m\u001b[43m,\u001b[49m\n\u001b[1;32m    978\u001b[0m \u001b[43m    \u001b[49m\u001b[38;5;124;43m'\u001b[39;49m\u001b[38;5;124;43mvalue\u001b[39;49m\u001b[38;5;124;43m'\u001b[39;49m\u001b[43m:\u001b[49m\u001b[43m \u001b[49m\u001b[43mvalue\u001b[49m\u001b[43m}\u001b[49m\u001b[43m)\u001b[49m[\u001b[38;5;124m'\u001b[39m\u001b[38;5;124mvalue\u001b[39m\u001b[38;5;124m'\u001b[39m]\n",
      "File \u001b[0;32m~/opt/anaconda3/lib/python3.9/site-packages/selenium/webdriver/remote/webdriver.py:321\u001b[0m, in \u001b[0;36mWebDriver.execute\u001b[0;34m(self, driver_command, params)\u001b[0m\n\u001b[1;32m    319\u001b[0m response \u001b[38;5;241m=\u001b[39m \u001b[38;5;28mself\u001b[39m\u001b[38;5;241m.\u001b[39mcommand_executor\u001b[38;5;241m.\u001b[39mexecute(driver_command, params)\n\u001b[1;32m    320\u001b[0m \u001b[38;5;28;01mif\u001b[39;00m response:\n\u001b[0;32m--> 321\u001b[0m     \u001b[38;5;28;43mself\u001b[39;49m\u001b[38;5;241;43m.\u001b[39;49m\u001b[43merror_handler\u001b[49m\u001b[38;5;241;43m.\u001b[39;49m\u001b[43mcheck_response\u001b[49m\u001b[43m(\u001b[49m\u001b[43mresponse\u001b[49m\u001b[43m)\u001b[49m\n\u001b[1;32m    322\u001b[0m     response[\u001b[38;5;124m'\u001b[39m\u001b[38;5;124mvalue\u001b[39m\u001b[38;5;124m'\u001b[39m] \u001b[38;5;241m=\u001b[39m \u001b[38;5;28mself\u001b[39m\u001b[38;5;241m.\u001b[39m_unwrap_value(\n\u001b[1;32m    323\u001b[0m         response\u001b[38;5;241m.\u001b[39mget(\u001b[38;5;124m'\u001b[39m\u001b[38;5;124mvalue\u001b[39m\u001b[38;5;124m'\u001b[39m, \u001b[38;5;28;01mNone\u001b[39;00m))\n\u001b[1;32m    324\u001b[0m     \u001b[38;5;28;01mreturn\u001b[39;00m response\n",
      "File \u001b[0;32m~/opt/anaconda3/lib/python3.9/site-packages/selenium/webdriver/remote/errorhandler.py:242\u001b[0m, in \u001b[0;36mErrorHandler.check_response\u001b[0;34m(self, response)\u001b[0m\n\u001b[1;32m    240\u001b[0m         alert_text \u001b[38;5;241m=\u001b[39m value[\u001b[38;5;124m'\u001b[39m\u001b[38;5;124malert\u001b[39m\u001b[38;5;124m'\u001b[39m]\u001b[38;5;241m.\u001b[39mget(\u001b[38;5;124m'\u001b[39m\u001b[38;5;124mtext\u001b[39m\u001b[38;5;124m'\u001b[39m)\n\u001b[1;32m    241\u001b[0m     \u001b[38;5;28;01mraise\u001b[39;00m exception_class(message, screen, stacktrace, alert_text)\n\u001b[0;32m--> 242\u001b[0m \u001b[38;5;28;01mraise\u001b[39;00m exception_class(message, screen, stacktrace)\n",
      "\u001b[0;31mNoSuchElementException\u001b[0m: Message: no such element: Unable to locate element: {\"method\":\"css selector\",\"selector\":\"[name=\"userNameInput\"]\"}\n  (Session info: chrome=112.0.5615.49)\n"
     ]
    }
   ],
   "source": [
    "#driver = webdriver.Chrome(executable_path='/Users/vinny/Downloads/chromedriver_mac_arm64/chromedriver')\n",
    "service = Service('/Users/vinny/Downloads/chromedriver_mac_arm64/chromedriver')\n",
    "service.start()\n",
    "driver = webdriver.Remote(service.service_url)\n",
    "\n",
    "\n",
    "driver.get('https://federation.net.ucf.edu/adfs/ls/?SAMLRequest=hZHBTsMwEER%2FJTefHIfEJMFqKhV6oFIRFQ0cuFSu7RJDYhuvjfh8mhZEuZTjrt6MdmYnwIfesVkMnXlQ71FBSGYAygdtzY01EAfl18p%2FaKEeH5YN6kJwwAjhzqWvVpuOGwkdf1OpsAMZ3TbiKEPJfO%2BmDR%2BtfoU7JZU%2F7FKjQhrFLlUyEi53QHogKFnMG7TZlqWktJD4sqIlphmtMadVjata1FWRy0KW%2BR4FiGphIHATGpRneYEzirO6vbhiNGdF9YySlbfBCttfayO1eWlQ9IZZDhqY4YMCFgRbz%2B6WLE8ztj1CwG7bdoVX9%2BsWJU%2FKwyHBHkDJ59AbYGPO8078p8RTiTuvcd%2BnoulkpNkhnp%2F%2BU7mbkFP6OP196fQL')\n",
    "# Find the username and password input fields on the login form, and enter your credentials\n",
    "username_input = driver.find_element_by_\n",
    "\n",
    "driver.quit()"
   ]
  },
  {
   "cell_type": "code",
   "execution_count": null,
   "id": "c8596106",
   "metadata": {},
   "outputs": [],
   "source": []
  },
  {
   "cell_type": "code",
   "execution_count": 5,
   "id": "769bddc1",
   "metadata": {},
   "outputs": [],
   "source": [
    "from bs4 import BeautifulSoup\n",
    "import requests"
   ]
  },
  {
   "cell_type": "code",
   "execution_count": 6,
   "id": "b06adc91",
   "metadata": {},
   "outputs": [],
   "source": [
    "html_text = requests.get('https://app.joinhandshake.com/stu/postings?page=1&per_page=25&sort_direction=desc&sort_column=created_at&query=Data%20Analyst').text"
   ]
  },
  {
   "cell_type": "code",
   "execution_count": 16,
   "id": "774ef826",
   "metadata": {},
   "outputs": [],
   "source": [
    "soup = BeautifulSoup(html_text, 'lxml')\n",
    "jobs = soup.find_all('div',class_ = 'style__cards___1xGnw')"
   ]
  },
  {
   "cell_type": "code",
   "execution_count": 17,
   "id": "f5e6ff17",
   "metadata": {},
   "outputs": [
    {
     "data": {
      "text/plain": [
       "[]"
      ]
     },
     "execution_count": 17,
     "metadata": {},
     "output_type": "execute_result"
    }
   ],
   "source": []
  }
 ],
 "metadata": {
  "kernelspec": {
   "display_name": "Python 3 (ipykernel)",
   "language": "python",
   "name": "python3"
  },
  "language_info": {
   "codemirror_mode": {
    "name": "ipython",
    "version": 3
   },
   "file_extension": ".py",
   "mimetype": "text/x-python",
   "name": "python",
   "nbconvert_exporter": "python",
   "pygments_lexer": "ipython3",
   "version": "3.9.16"
  }
 },
 "nbformat": 4,
 "nbformat_minor": 5
}
