{
 "cells": [
  {
   "cell_type": "markdown",
   "id": "848d6551",
   "metadata": {},
   "source": [
    "### Automating the login process"
   ]
  },
  {
   "cell_type": "code",
   "execution_count": null,
   "id": "daac12e8",
   "metadata": {},
   "outputs": [],
   "source": [
    "from selenium import webdriver\n",
    "from selenium.webdriver.chrome.service import Service\n",
    "from selenium.webdriver.common.keys import Keys\n",
    "from selenium.webdriver.support.ui import WebDriverWait\n",
    "from selenium.webdriver.support import expected_conditions as EC\n",
    "from selenium.webdriver.common.by import By\n",
    "import requests\n",
    "import time\n",
    "\n",
    "def scraper():\n",
    "    service = Service('/Users/vinny/Downloads/chromedriver_mac_arm64/chromedriver')\n",
    "    service.start()\n",
    "    driver = webdriver.Remote(service.service_url)\n",
    "\n",
    "    driver.implicitly_wait(10)\n",
    "    driver.get('https://federation.net.ucf.edu/adfs/ls/?SAMLRequest=hZHBTsMwEER%2FJTefHIfEJMFqKhV6oFIRFQ0cuFSu7RJDYhuvjfh8mhZEuZTjrt6MdmYnwIfesVkMnXlQ71FBSGYAygdtzY01EAfl18p%2FaKEeH5YN6kJwwAjhzqWvVpuOGwkdf1OpsAMZ3TbiKEPJfO%2BmDR%2BtfoU7JZU%2F7FKjQhrFLlUyEi53QHogKFnMG7TZlqWktJD4sqIlphmtMadVjata1FWRy0KW%2BR4FiGphIHATGpRneYEzirO6vbhiNGdF9YySlbfBCttfayO1eWlQ9IZZDhqY4YMCFgRbz%2B6WLE8ztj1CwG7bdoVX9%2BsWJU%2FKwyHBHkDJ59AbYGPO8078p8RTiTuvcd%2BnoulkpNkhnp%2F%2BU7mbkFP6OP196fQL')\n",
    "    # Find the username and password input fields on the login form, and enter your credentials\n",
    "    username_input = driver.find_element_by_id('userNameInput')\n",
    "    username_input.send_keys('NET\\\\vi927701')\n",
    "    password_input = driver.find_element_by_id('passwordInput')\n",
    "    password_input.send_keys('YoruSimp99!')\n",
    "    password_input.send_keys(Keys.RETURN)\n",
    "    \n",
    "    \n",
    "    #Go to the student postings\n",
    "    driver.get('https://app.joinhandshake.com/stu/postings')\n",
    "    #Search for Data Analyst positions\n",
    "    driver.get('https://app.joinhandshake.com/stu/postings?page=1&per_page=25&sort_direction=desc&sort_column=default&query=Data%20Analyst')\n",
    "    \n",
    "    #job_name = driver.find_elements_by_class_name('style__job-title___+ohfl')\n",
    "    try:\n",
    "        wait = WebDriverWait(driver, 30)  # Maximum wait time of 10 seconds\n",
    "        job_name = wait.until(EC.visibility_of_all_elements_located((By.CLASS_NAME, 'style__job-title___+ohfl')))\n",
    "        \n",
    "        for element in job_name:\n",
    "            job_title = element.text\n",
    "            print(job_title)\n",
    "\n",
    "    except:\n",
    "        driver.quit()\n",
    "        \n",
    "\n",
    "if __name__ == \"__main__\":\n",
    "    scraper()"
   ]
  },
  {
   "cell_type": "code",
   "execution_count": null,
   "id": "a8cd26b5",
   "metadata": {},
   "outputs": [],
   "source": [
    "def scraper():\n",
    "    baseurl = 'https://app.joinhandshake.com/stu/postings?page=1&per_page=25&sort_direction=desc&sort_column=default&query=Data%20Analyst'\n",
    "    \n",
    "    header = {\n",
    "        'User-Agent': 'Mozilla/5.0 (Macintosh; Intel Mac OS X 13_3_1) AppleWebKit/537.36 (KHTML, like Gecko) Chrome/112.0.0.0 Safari/537.36'\n",
    "        }\n",
    "        \n",
    "    r = requests.get(baseurl, headers = header)\n",
    "    soup = BeautifulSoup(r, 'html.parser')"
   ]
  }
 ],
 "metadata": {
  "kernelspec": {
   "display_name": "Python 3 (ipykernel)",
   "language": "python",
   "name": "python3"
  },
  "language_info": {
   "codemirror_mode": {
    "name": "ipython",
    "version": 3
   },
   "file_extension": ".py",
   "mimetype": "text/x-python",
   "name": "python",
   "nbconvert_exporter": "python",
   "pygments_lexer": "ipython3",
   "version": "3.9.16"
  }
 },
 "nbformat": 4,
 "nbformat_minor": 5
}
