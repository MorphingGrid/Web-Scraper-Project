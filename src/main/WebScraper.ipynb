{
 "cells": [
  {
   "cell_type": "markdown",
   "id": "848d6551",
   "metadata": {},
   "source": [
    "### Automating the login process"
   ]
  },
  {
   "cell_type": "code",
   "execution_count": 12,
   "id": "e572583a",
   "metadata": {},
   "outputs": [],
   "source": [
    "from selenium import webdriver\n",
    "from selenium.webdriver.chrome.service import Service\n",
    "from selenium.webdriver.common.keys import Keys\n",
    "import time"
   ]
  },
  {
   "cell_type": "code",
   "execution_count": 13,
   "id": "429008da",
   "metadata": {
    "scrolled": true
   },
   "outputs": [],
   "source": [
    "#driver = webdriver.Chrome(executable_path='/Users/vinny/Downloads/chromedriver_mac_arm64/chromedriver')\n",
    "service = Service('/Users/vinny/Downloads/chromedriver_mac_arm64/chromedriver')\n",
    "service.start()\n",
    "driver = webdriver.Remote(service.service_url)\n",
    "driver.get('http://www.google.com/');\n",
    "time.sleep(5) # Let the user actually see something!\n",
    "driver.quit()"
   ]
  },
  {
   "cell_type": "code",
   "execution_count": null,
   "id": "c8596106",
   "metadata": {},
   "outputs": [],
   "source": []
  },
  {
   "cell_type": "code",
   "execution_count": 5,
   "id": "769bddc1",
   "metadata": {},
   "outputs": [],
   "source": [
    "from bs4 import BeautifulSoup\n",
    "import requests"
   ]
  },
  {
   "cell_type": "code",
   "execution_count": 6,
   "id": "b06adc91",
   "metadata": {},
   "outputs": [],
   "source": [
    "html_text = requests.get('https://app.joinhandshake.com/stu/postings?page=1&per_page=25&sort_direction=desc&sort_column=created_at&query=Data%20Analyst').text"
   ]
  },
  {
   "cell_type": "code",
   "execution_count": 16,
   "id": "774ef826",
   "metadata": {},
   "outputs": [],
   "source": [
    "soup = BeautifulSoup(html_text, 'lxml')\n",
    "jobs = soup.find_all('div',class_ = 'style__cards___1xGnw')"
   ]
  },
  {
   "cell_type": "code",
   "execution_count": 17,
   "id": "f5e6ff17",
   "metadata": {},
   "outputs": [
    {
     "data": {
      "text/plain": [
       "[]"
      ]
     },
     "execution_count": 17,
     "metadata": {},
     "output_type": "execute_result"
    }
   ],
   "source": []
  }
 ],
 "metadata": {
  "kernelspec": {
   "display_name": "Python 3 (ipykernel)",
   "language": "python",
   "name": "python3"
  },
  "language_info": {
   "codemirror_mode": {
    "name": "ipython",
    "version": 3
   },
   "file_extension": ".py",
   "mimetype": "text/x-python",
   "name": "python",
   "nbconvert_exporter": "python",
   "pygments_lexer": "ipython3",
   "version": "3.9.16"
  }
 },
 "nbformat": 4,
 "nbformat_minor": 5
}
